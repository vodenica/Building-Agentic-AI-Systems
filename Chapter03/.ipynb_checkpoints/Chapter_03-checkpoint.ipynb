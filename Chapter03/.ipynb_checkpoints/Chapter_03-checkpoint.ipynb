{
 "cells": [
  {
   "cell_type": "markdown",
   "metadata": {},
   "source": [
    "<a target=\"_blank\" href=\"https://colab.research.google.com/github/PacktPublishing/Building-Agentic-AI-Systems/blob/main/Chapter_03.ipynb\">\n",
    "  <img src=\"https://colab.research.google.com/assets/colab-badge.svg\" alt=\"Open In Colab\"/>\n",
    "</a>\n",
    "\n",
    "# Chapter 3 – Essential Components of Intelligent Agents\n",
    "---\n",
    "\n",
    "## Utilitiy Functions\n",
    "\n",
    "The code sample below demonstrates a simple utility functon for our travel booking example."
   ]
  },
  {
   "cell_type": "code",
   "execution_count": null,
   "metadata": {},
   "outputs": [],
   "source": [
    "import random\n",
    "\n",
    "def travel_utility_function(travel_option):\n",
    "    \"\"\"\n",
    "    A utility function that evaluates travel options based on price,\n",
    "    comfort, and convenience.\n",
    "    \"\"\"\n",
    "    price_utility = (1000 - travel_option['price']) * 0.05  # Lower price is better\n",
    "    comfort_utility = travel_option['comfort_rating'] * 10\n",
    "    convenience_utility = travel_option['convenience_score'] * 15\n",
    "    \n",
    "    total_utility = price_utility + comfort_utility + convenience_utility\n",
    "    \n",
    "    return total_utility\n",
    "\n",
    "# Define some example travel options\n",
    "travel_options = [\n",
    "    {\n",
    "        'name': 'Budget Airline',\n",
    "        'price': 300,\n",
    "        'comfort_rating': 3,\n",
    "        'convenience_score': 2\n",
    "    },\n",
    "    {\n",
    "        'name': 'Premium Airline',\n",
    "        'price': 800,\n",
    "        'comfort_rating': 8,\n",
    "        'convenience_score': 7\n",
    "    },\n",
    "    {\n",
    "        'name': 'Train',\n",
    "        'price': 200,\n",
    "        'comfort_rating': 6,\n",
    "        'convenience_score': 5\n",
    "    },\n",
    "    {\n",
    "        'name': 'Road Trip',\n",
    "        'price': 150,\n",
    "        'comfort_rating': 4,\n",
    "        'convenience_score': 3\n",
    "    }\n",
    "]\n",
    "\n",
    "# Calculate and print the utility for each travel option\n",
    "for option in travel_options:\n",
    "    utility = travel_utility_function(option)\n",
    "    print(f\"Option: {option['name']}\")\n",
    "    print(f\"Price: ${option['price']}, Comfort: {option['comfort_rating']}/10, Convenience: {option['convenience_score']}/10\")\n",
    "    print(f\"Utility: {utility:.2f}\\n\")\n",
    "\n",
    "# Find the best option based on utility\n",
    "best_option = max(travel_options, key=travel_utility_function)\n",
    "print(f\"The best travel option according to our utility function is: {best_option['name']}\")\n",
    "print(f\"Its utility value is: {travel_utility_function(best_option):.2f}\")"
   ]
  },
  {
   "cell_type": "markdown",
   "metadata": {},
   "source": [
    "## Enhancing Agent Capabilities with Generative AI\n",
    "---\n",
    "\n",
    "### Start building Agentic AI\n",
    "\n",
    "In order to be able to use the code below, you must sign-up with OpenAI to create a developer account to get access to the GPT model(s). Head over to the website [https://platform.openai.com/](https://platform.openai.com/) and sign-up. Once you are signed up, you must add a credit-card and create a new project to get a project key. Refer to Open AI [dcoumentation](https://platform.openai.com/docs/overview) for more details.\n",
    "\n",
    "Next let's install a OpenAI SDK."
   ]
  },
  {
   "cell_type": "code",
   "execution_count": null,
   "metadata": {},
   "outputs": [],
   "source": [
    "!pip install -U openai ipywidgets"
   ]
  },
  {
   "cell_type": "markdown",
   "metadata": {},
   "source": [
    "In the following code we use OpenAI SDK with function calling to demonstrate a very simple agent. The agent can ask follow-up questions and then call a function which won't do much at this point except responding back with a string. Run the following code to provide your OpenAI API key."
   ]
  },
  {
   "cell_type": "code",
   "execution_count": null,
   "metadata": {},
   "outputs": [],
   "source": [
    "import getpass\n",
    "api_key = getpass.getpass(prompt=\"Enter OpenAI API Key: \")"
   ]
  },
  {
   "cell_type": "markdown",
   "metadata": {},
   "source": [
    "The following function will be called by the LLM when it has all the details about the passenger. Note that current it doesn't do much instead of simply returning a string."
   ]
  },
  {
   "cell_type": "code",
   "execution_count": null,
   "metadata": {},
   "outputs": [],
   "source": [
    "def book_flight(passenger_name: str, \n",
    "                from_city: str, \n",
    "                to_city: str, \n",
    "                travel_date: str) -> str:\n",
    "    # simply returns a string\n",
    "    return {\"response\": f\"A {travel_date} flight has been booked from {from_city} to {to_city} for {passenger_name}\"}"
   ]
  },
  {
   "cell_type": "markdown",
   "metadata": {},
   "source": [
    "We define a tool with the function above and let the LLM know that it has this tool to make the flight booking. Note the `JSON` variable `tools`, the JSON specifies that we are passing a function and the purpose of this function and when the LLM can use it. The LLM will only use this function if all the function parameters are available, otherwise it will ask followup questions.\n",
    "\n",
    "We will learn more about tools in the subsequent chapters but for now this should be pretty self-explanatory. Note that we are not using LangGraph just yet."
   ]
  },
  {
   "cell_type": "code",
   "execution_count": null,
   "metadata": {},
   "outputs": [],
   "source": [
    "from openai import OpenAI\n",
    "import json\n",
    "\n",
    "openai = OpenAI(api_key=api_key)\n",
    "\n",
    "tools = [{\n",
    "        \"type\": \"function\",\n",
    "        \"function\":{\n",
    "            \"name\": \"book_flight\",\n",
    "            \"description\": \"Book a flight for the customer. Call this whenever you need to book a flight, for example when a customer asks 'I want to book a flight from Los Angeles to New York'\",\n",
    "            \"parameters\": {\n",
    "                \"type\": \"object\",\n",
    "                \"properties\": {\n",
    "                    \"from_city\": {\n",
    "                        \"type\": \"string\",\n",
    "                        \"description\": \"The departure city.\",\n",
    "                    },\n",
    "                    \"to_city\": {\n",
    "                        \"type\": \"string\",\n",
    "                        \"description\": \"The arrival city.\",\n",
    "                    },\n",
    "                    \"travel_date\": {\n",
    "                        \"type\": \"string\",\n",
    "                        \"description\": \"The date of travel.\",\n",
    "                    },\n",
    "                    \"passenger_name\": {\n",
    "                        \"type\": \"string\",\n",
    "                        \"description\": \"The passenger's legal name.\",\n",
    "                    },\n",
    "                },\n",
    "                \"required\": [\"passenger_name\",\"from_city\", \"to_city\", \"travel_date\"],\n",
    "                \"additionalProperties\": False,\n",
    "            }\n",
    "    }\n",
    "}]\n",
    "\n",
    "# This is the main function that calls the LLM\n",
    "\n",
    "def travel_agent(user_message: str, messages: list) -> str:\n",
    "    messages.append({\"role\": \"user\", \"content\": user_message})\n",
    "    try:\n",
    "        response = openai.chat.completions.create(\n",
    "            model=\"gpt-4-turbo\",\n",
    "            messages=messages,\n",
    "            tools=tools\n",
    "        )        \n",
    "        if response.choices[0].message.content:\n",
    "            return response.choices[0].message.content\n",
    "        elif response.choices[0].message.tool_calls:\n",
    "            tool_call = response.choices[0].message.tool_calls[0]\n",
    "            arguments = json.loads(tool_call.function.arguments)\n",
    "            from_city = arguments.get('from_city')\n",
    "            to_city = arguments.get('to_city')\n",
    "            travel_date = arguments.get('travel_date')\n",
    "            passenger_name = arguments.get('passenger_name')\n",
    "            \n",
    "            # Call our travel booking function that we defined earlier\n",
    "            booking_confirmation = book_flight(passenger_name=passenger_name, from_city=from_city, to_city=to_city, travel_date=travel_date)\n",
    "\n",
    "            function_call_result_message = {\n",
    "                \"role\": \"tool\",\n",
    "                \"content\": json.dumps({\n",
    "                    \"confirmation_message\": booking_confirmation,\n",
    "                }),\n",
    "                \"tool_call_id\": response.choices[0].message.tool_calls[0].id\n",
    "            }\n",
    "            messages.append(response.choices[0].message)\n",
    "            messages.append(function_call_result_message)\n",
    "            response = openai.chat.completions.create(\n",
    "                            model=\"gpt-4-turbo\",\n",
    "                            messages=messages,                            \n",
    "                        )\n",
    "            return response.choices[0].message.content\n",
    "    except Exception as e:\n",
    "        return f\"An error occurred: {str(e)}\""
   ]
  },
  {
   "cell_type": "markdown",
   "metadata": {},
   "source": [
    "Since we have created our tool function and the function to call the LLM, we will create simulate a simple chat UI experience with the code below. "
   ]
  },
  {
   "cell_type": "code",
   "execution_count": null,
   "metadata": {},
   "outputs": [],
   "source": [
    "import ipywidgets as widgets\n",
    "from IPython.display import display\n",
    "\n",
    "messages = [\n",
    "    {\"role\": \"system\", \"content\": \"\"\"You are a helpful travel agent assistant. \n",
    "     Use the supplied tools to assist the customer. \n",
    "     If you don't have enough information to book, just ask. \n",
    "     When you have the travel cities, dates and name, you can use the tool to book the ticket.\"\"\"},\n",
    "]\n",
    "\n",
    "def on_submit(b):\n",
    "    message = text_input.value\n",
    "    output.value = output.value.replace(\"</div>\", f\"<p style='border: 1px solid gray; border-radius: 5px; margin-bottom: 4px; padding: 3px'><b style'color: blue;'>User:</b> {message}</p></div>\")\n",
    "    text_input.value = ''\n",
    "\n",
    "    response = travel_agent(user_message=message, messages=messages)\n",
    "    messages.append({\"role\": \"assistant\", \"content\": response})\n",
    "    output.value = output.value.replace(\"</div>\", f\"<p style='border: 1px solid gray; border-radius: 5px; margin-bottom: 4px; padding: 3px'><b style'color: red;'>Travel agent:</b> {response}</p></div>\")\n",
    "\n",
    "text_input = widgets.Text(description=\"You:\")\n",
    "output = widgets.HTML(value=\"<div style='border: 2px solid gray; padding: 10px; width: 500px; height: 400px;'>YOUR AI TRAVEL AGENT</div>\")\n",
    "button = widgets.Button(description=\"Send\")\n",
    "button.on_click(on_submit)\n",
    "text_input.on_submit(lambda x: on_submit(None))\n",
    "\n",
    "display(output, widgets.HBox([text_input, button]))"
   ]
  }
 ],
 "metadata": {
  "kernelspec": {
   "display_name": "packt_book",
   "language": "python",
   "name": "python3"
  },
  "language_info": {
   "codemirror_mode": {
    "name": "ipython",
    "version": 3
   },
   "file_extension": ".py",
   "mimetype": "text/x-python",
   "name": "python",
   "nbconvert_exporter": "python",
   "pygments_lexer": "ipython3",
   "version": "3.11.9"
  }
 },
 "nbformat": 4,
 "nbformat_minor": 2
}
