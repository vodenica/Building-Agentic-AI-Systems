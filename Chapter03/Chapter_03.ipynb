{
 "cells": [
  {
   "cell_type": "markdown",
   "metadata": {},
   "source": [
    "<a target=\"_blank\" href=\"https://colab.research.google.com/github/PacktPublishing/Building-Agentic-AI-Systems/blob/main/Chapter_03.ipynb\">\n",
    "  <img src=\"https://colab.research.google.com/assets/colab-badge.svg\" alt=\"Open In Colab\"/>\n",
    "</a>\n",
    "\n",
    "# Chapter 3 – Essential Components of Intelligent Agents\n",
    "---\n",
    "\n",
    "## Utilitiy Functions\n",
    "\n",
    "The code sample below demonstrates a simple utility functon for our travel booking example."
   ]
  },
  {
   "cell_type": "code",
   "execution_count": 1,
   "metadata": {},
   "outputs": [
    {
     "name": "stdout",
     "output_type": "stream",
     "text": [
      "Option: Budget Airline\n",
      "Price: $300, Comfort: 3/10, Convenience: 2/10\n",
      "Utility: 95.00\n",
      "\n",
      "Option: Premium Airline\n",
      "Price: $800, Comfort: 8/10, Convenience: 7/10\n",
      "Utility: 195.00\n",
      "\n",
      "Option: Train\n",
      "Price: $200, Comfort: 6/10, Convenience: 5/10\n",
      "Utility: 175.00\n",
      "\n",
      "Option: Road Trip\n",
      "Price: $150, Comfort: 4/10, Convenience: 3/10\n",
      "Utility: 127.50\n",
      "\n",
      "The best travel option according to our utility function is: Premium Airline\n",
      "Its utility value is: 195.00\n"
     ]
    }
   ],
   "source": [
    "import random\n",
    "\n",
    "def travel_utility_function(travel_option):\n",
    "    \"\"\"\n",
    "    A utility function that evaluates travel options based on price,\n",
    "    comfort, and convenience.\n",
    "    \"\"\"\n",
    "    price_utility = (1000 - travel_option['price']) * 0.05  # Lower price is better\n",
    "    comfort_utility = travel_option['comfort_rating'] * 10\n",
    "    convenience_utility = travel_option['convenience_score'] * 15\n",
    "    \n",
    "    total_utility = price_utility + comfort_utility + convenience_utility\n",
    "    \n",
    "    return total_utility\n",
    "\n",
    "# Define some example travel options\n",
    "travel_options = [\n",
    "    {\n",
    "        'name': 'Budget Airline',\n",
    "        'price': 300,\n",
    "        'comfort_rating': 3,\n",
    "        'convenience_score': 2\n",
    "    },\n",
    "    {\n",
    "        'name': 'Premium Airline',\n",
    "        'price': 800,\n",
    "        'comfort_rating': 8,\n",
    "        'convenience_score': 7\n",
    "    },\n",
    "    {\n",
    "        'name': 'Train',\n",
    "        'price': 200,\n",
    "        'comfort_rating': 6,\n",
    "        'convenience_score': 5\n",
    "    },\n",
    "    {\n",
    "        'name': 'Road Trip',\n",
    "        'price': 150,\n",
    "        'comfort_rating': 4,\n",
    "        'convenience_score': 3\n",
    "    }\n",
    "]\n",
    "\n",
    "# Calculate and print the utility for each travel option\n",
    "for option in travel_options:\n",
    "    utility = travel_utility_function(option)\n",
    "    print(f\"Option: {option['name']}\")\n",
    "    print(f\"Price: ${option['price']}, Comfort: {option['comfort_rating']}/10, Convenience: {option['convenience_score']}/10\")\n",
    "    print(f\"Utility: {utility:.2f}\\n\")\n",
    "\n",
    "# Find the best option based on utility\n",
    "best_option = max(travel_options, key=travel_utility_function)\n",
    "print(f\"The best travel option according to our utility function is: {best_option['name']}\")\n",
    "print(f\"Its utility value is: {travel_utility_function(best_option):.2f}\")"
   ]
  },
  {
   "cell_type": "markdown",
   "metadata": {},
   "source": [
    "## Enhancing Agent Capabilities with Generative AI\n",
    "---\n",
    "\n",
    "### Start building Agentic AI\n",
    "\n",
    "In order to be able to use the code below, you must sign-up with OpenAI to create a developer account to get access to the GPT model(s). Head over to the website [https://platform.openai.com/](https://platform.openai.com/) and sign-up. Once you are signed up, you must add a credit-card and create a new project to get a project key. Refer to Open AI [dcoumentation](https://platform.openai.com/docs/overview) for more details.\n",
    "\n",
    "Next let's install a OpenAI SDK."
   ]
  },
  {
   "cell_type": "code",
   "execution_count": 2,
   "metadata": {},
   "outputs": [
    {
     "name": "stdout",
     "output_type": "stream",
     "text": [
      "Defaulting to user installation because normal site-packages is not writeable\n",
      "Requirement already satisfied: openai in /home/vodenizza/.local/lib/python3.11/site-packages (1.75.0)\n",
      "Collecting openai\n",
      "  Downloading openai-1.106.1-py3-none-any.whl.metadata (29 kB)\n",
      "Requirement already satisfied: ipywidgets in /home/vodenizza/.local/lib/python3.11/site-packages (8.1.7)\n",
      "Requirement already satisfied: anyio<5,>=3.5.0 in /home/vodenizza/.local/lib/python3.11/site-packages (from openai) (4.9.0)\n",
      "Requirement already satisfied: distro<2,>=1.7.0 in /usr/lib/python3/dist-packages (from openai) (1.7.0)\n",
      "Requirement already satisfied: httpx<1,>=0.23.0 in /home/vodenizza/.local/lib/python3.11/site-packages (from openai) (0.28.1)\n",
      "Requirement already satisfied: jiter<1,>=0.4.0 in /home/vodenizza/.local/lib/python3.11/site-packages (from openai) (0.10.0)\n",
      "Requirement already satisfied: pydantic<3,>=1.9.0 in /home/vodenizza/.local/lib/python3.11/site-packages (from openai) (2.11.7)\n",
      "Requirement already satisfied: sniffio in /home/vodenizza/.local/lib/python3.11/site-packages (from openai) (1.3.1)\n",
      "Requirement already satisfied: tqdm>4 in /home/vodenizza/.local/lib/python3.11/site-packages (from openai) (4.67.1)\n",
      "Requirement already satisfied: typing-extensions<5,>=4.11 in /home/vodenizza/.local/lib/python3.11/site-packages (from openai) (4.14.1)\n",
      "Requirement already satisfied: idna>=2.8 in /usr/lib/python3/dist-packages (from anyio<5,>=3.5.0->openai) (3.3)\n",
      "Requirement already satisfied: certifi in /usr/lib/python3/dist-packages (from httpx<1,>=0.23.0->openai) (2020.6.20)\n",
      "Requirement already satisfied: httpcore==1.* in /home/vodenizza/.local/lib/python3.11/site-packages (from httpx<1,>=0.23.0->openai) (1.0.9)\n",
      "Requirement already satisfied: h11>=0.16 in /home/vodenizza/.local/lib/python3.11/site-packages (from httpcore==1.*->httpx<1,>=0.23.0->openai) (0.16.0)\n",
      "Requirement already satisfied: annotated-types>=0.6.0 in /home/vodenizza/.local/lib/python3.11/site-packages (from pydantic<3,>=1.9.0->openai) (0.7.0)\n",
      "Requirement already satisfied: pydantic-core==2.33.2 in /home/vodenizza/.local/lib/python3.11/site-packages (from pydantic<3,>=1.9.0->openai) (2.33.2)\n",
      "Requirement already satisfied: typing-inspection>=0.4.0 in /home/vodenizza/.local/lib/python3.11/site-packages (from pydantic<3,>=1.9.0->openai) (0.4.1)\n",
      "Requirement already satisfied: comm>=0.1.3 in /home/vodenizza/.local/lib/python3.11/site-packages (from ipywidgets) (0.2.3)\n",
      "Requirement already satisfied: ipython>=6.1.0 in /usr/lib/python3/dist-packages (from ipywidgets) (7.31.1)\n",
      "Requirement already satisfied: traitlets>=4.3.1 in /home/vodenizza/.local/lib/python3.11/site-packages (from ipywidgets) (5.14.3)\n",
      "Requirement already satisfied: widgetsnbextension~=4.0.14 in /home/vodenizza/.local/lib/python3.11/site-packages (from ipywidgets) (4.0.14)\n",
      "Requirement already satisfied: jupyterlab_widgets~=3.0.15 in /home/vodenizza/.local/lib/python3.11/site-packages (from ipywidgets) (3.0.15)\n",
      "Downloading openai-1.106.1-py3-none-any.whl (930 kB)\n",
      "\u001b[2K   \u001b[38;2;114;156;31m━━━━━━━━━━━━━━━━━━━━━━━━━━━━━━━━━━━━━━━━\u001b[0m \u001b[32m930.8/930.8 kB\u001b[0m \u001b[31m380.9 kB/s\u001b[0m  \u001b[33m0:00:01\u001b[0m\u001b[31m1.1 MB/s\u001b[0m eta \u001b[36m0:00:01\u001b[0m\n",
      "\u001b[?25hInstalling collected packages: openai\n",
      "  Attempting uninstall: openai\n",
      "    Found existing installation: openai 1.75.0\n",
      "    Uninstalling openai-1.75.0:\n",
      "      Successfully uninstalled openai-1.75.0\n",
      "\u001b[31mERROR: pip's dependency resolver does not currently take into account all the packages that are installed. This behaviour is the source of the following dependency conflicts.\n",
      "litellm 1.68.0 requires openai<1.76.0,>=1.68.2, but you have openai 1.106.1 which is incompatible.\u001b[0m\u001b[31m\n",
      "\u001b[0mSuccessfully installed openai-1.106.1\n"
     ]
    }
   ],
   "source": [
    "!pip install -U openai ipywidgets"
   ]
  },
  {
   "cell_type": "markdown",
   "metadata": {},
   "source": [
    "In the following code we use OpenAI SDK with function calling to demonstrate a very simple agent. The agent can ask follow-up questions and then call a function which won't do much at this point except responding back with a string. Run the following code to provide your OpenAI API key."
   ]
  },
  {
   "cell_type": "code",
   "execution_count": 3,
   "metadata": {},
   "outputs": [
    {
     "name": "stdin",
     "output_type": "stream",
     "text": [
      "Enter OpenAI API Key:  ········\n"
     ]
    }
   ],
   "source": [
    "import getpass\n",
    "api_key = getpass.getpass(prompt=\"Enter OpenAI API Key: \")"
   ]
  },
  {
   "cell_type": "markdown",
   "metadata": {},
   "source": [
    "The following function will be called by the LLM when it has all the details about the passenger. Note that current it doesn't do much instead of simply returning a string."
   ]
  },
  {
   "cell_type": "code",
   "execution_count": 7,
   "metadata": {},
   "outputs": [],
   "source": [
    "def book_flight(\n",
    "    passenger_name: str, \n",
    "    from_city: str, \n",
    "    to_city: str, \n",
    "    travel_date: str\n",
    ") -> str:\n",
    "    # simply returns a string\n",
    "    return {\"response\": f\"A {travel_date} flight has been booked from {from_city} to {to_city} for {passenger_name}\"}"
   ]
  },
  {
   "cell_type": "markdown",
   "metadata": {},
   "source": [
    "We define a tool with the function above and let the LLM know that it has this tool to make the flight booking. Note the `JSON` variable `tools`, the JSON specifies that we are passing a function and the purpose of this function and when the LLM can use it. The LLM will only use this function if all the function parameters are available, otherwise it will ask followup questions.\n",
    "\n",
    "We will learn more about tools in the subsequent chapters but for now this should be pretty self-explanatory. Note that we are not using LangGraph just yet."
   ]
  },
  {
   "cell_type": "code",
   "execution_count": 8,
   "metadata": {},
   "outputs": [],
   "source": [
    "from openai import OpenAI\n",
    "import json\n",
    "\n",
    "openai = OpenAI(api_key=api_key)\n",
    "\n",
    "tools = [{\n",
    "        \"type\": \"function\",\n",
    "        \"function\":{\n",
    "            \"name\": \"book_flight\",\n",
    "            \"description\": \"Book a flight for the customer. Call this whenever you need to book a flight, for example when a customer asks 'I want to book a flight from Los Angeles to New York'\",\n",
    "            \"parameters\": {\n",
    "                \"type\": \"object\",\n",
    "                \"properties\": {\n",
    "                    \"from_city\": {\n",
    "                        \"type\": \"string\",\n",
    "                        \"description\": \"The departure city.\",\n",
    "                    },\n",
    "                    \"to_city\": {\n",
    "                        \"type\": \"string\",\n",
    "                        \"description\": \"The arrival city.\",\n",
    "                    },\n",
    "                    \"travel_date\": {\n",
    "                        \"type\": \"string\",\n",
    "                        \"description\": \"The date of travel.\",\n",
    "                    },\n",
    "                    \"passenger_name\": {\n",
    "                        \"type\": \"string\",\n",
    "                        \"description\": \"The passenger's legal name.\",\n",
    "                    },\n",
    "                },\n",
    "                \"required\": [\"passenger_name\",\"from_city\", \"to_city\", \"travel_date\"],\n",
    "                \"additionalProperties\": False,\n",
    "            }\n",
    "    }\n",
    "}]\n",
    "\n",
    "# This is the main function that calls the LLM\n",
    "\n",
    "def travel_agent(user_message: str, messages: list) -> str:\n",
    "    messages.append({\"role\": \"user\", \"content\": user_message})\n",
    "    try:\n",
    "        response = openai.chat.completions.create(\n",
    "            model=\"gpt-4-turbo\",\n",
    "            messages=messages,\n",
    "            tools=tools\n",
    "        )        \n",
    "        if response.choices[0].message.content:\n",
    "            return response.choices[0].message.content\n",
    "        elif response.choices[0].message.tool_calls:\n",
    "            tool_call = response.choices[0].message.tool_calls[0]\n",
    "            arguments = json.loads(tool_call.function.arguments)\n",
    "            from_city = arguments.get('from_city')\n",
    "            to_city = arguments.get('to_city')\n",
    "            travel_date = arguments.get('travel_date')\n",
    "            passenger_name = arguments.get('passenger_name')\n",
    "            \n",
    "            # Call our travel booking function that we defined earlier\n",
    "            booking_confirmation = book_flight(passenger_name=passenger_name, from_city=from_city, to_city=to_city, travel_date=travel_date)\n",
    "\n",
    "            function_call_result_message = {\n",
    "                \"role\": \"tool\",\n",
    "                \"content\": json.dumps({\n",
    "                    \"confirmation_message\": booking_confirmation,\n",
    "                }),\n",
    "                \"tool_call_id\": response.choices[0].message.tool_calls[0].id\n",
    "            }\n",
    "            messages.append(response.choices[0].message)\n",
    "            messages.append(function_call_result_message)\n",
    "            response = openai.chat.completions.create(\n",
    "                            model=\"gpt-4-turbo\",\n",
    "                            messages=messages,                            \n",
    "                        )\n",
    "            return response.choices[0].message.content\n",
    "    except Exception as e:\n",
    "        return f\"An error occurred: {str(e)}\""
   ]
  },
  {
   "cell_type": "markdown",
   "metadata": {},
   "source": [
    "Since we have created our tool function and the function to call the LLM, we will create simulate a simple chat UI experience with the code below. "
   ]
  },
  {
   "cell_type": "code",
   "execution_count": 10,
   "metadata": {},
   "outputs": [
    {
     "name": "stderr",
     "output_type": "stream",
     "text": [
      "/tmp/ipykernel_235113/1008462641.py:24: DeprecationWarning: on_submit is deprecated. Instead, set the .continuous_update attribute to False and observe the value changing with: mywidget.observe(callback, 'value').\n",
      "  text_input.on_submit(lambda x: on_submit(None))\n"
     ]
    },
    {
     "data": {
      "application/vnd.jupyter.widget-view+json": {
       "model_id": "a2a0ed4babb54e789c84a278d9c18439",
       "version_major": 2,
       "version_minor": 0
      },
      "text/plain": [
       "HTML(value=\"<div style='border: 2px solid gray; padding: 10px; width: 500px; height: 400px;'>YOUR AI TRAVEL AG…"
      ]
     },
     "metadata": {},
     "output_type": "display_data"
    },
    {
     "data": {
      "application/vnd.jupyter.widget-view+json": {
       "model_id": "87ecab0ab4114f57ae405a8d7ee7a936",
       "version_major": 2,
       "version_minor": 0
      },
      "text/plain": [
       "HBox(children=(Text(value='', description='You:'), Button(description='Send', style=ButtonStyle())))"
      ]
     },
     "metadata": {},
     "output_type": "display_data"
    }
   ],
   "source": [
    "import ipywidgets as widgets\n",
    "from IPython.display import display\n",
    "\n",
    "messages = [\n",
    "    {\"role\": \"system\", \"content\": \"\"\"You are a helpful travel agent assistant. \n",
    "     Use the supplied tools to assist the customer. \n",
    "     If you don't have enough information to book, just ask. \n",
    "     When you have the travel cities, dates and name, you can use the tool to book the ticket.\"\"\"},\n",
    "]\n",
    "\n",
    "def on_submit(b):\n",
    "    message = text_input.value\n",
    "    output.value = output.value.replace(\"</div>\", f\"<p style='border: 1px solid gray; border-radius: 5px; margin-bottom: 4px; padding: 3px'><b style'color: blue;'>User:</b> {message}</p></div>\")\n",
    "    text_input.value = ''\n",
    "\n",
    "    response = travel_agent(user_message=message, messages=messages)\n",
    "    messages.append({\"role\": \"assistant\", \"content\": response})\n",
    "    output.value = output.value.replace(\"</div>\", f\"<p style='border: 1px solid gray; border-radius: 5px; margin-bottom: 4px; padding: 3px'><b style'color: red;'>Travel agent:</b> {response}</p></div>\")\n",
    "\n",
    "text_input = widgets.Text(description=\"You:\")\n",
    "output = widgets.HTML(value=\"<div style='border: 2px solid gray; padding: 10px; width: 500px; height: 400px;'>YOUR AI TRAVEL AGENT</div>\")\n",
    "button = widgets.Button(description=\"Send\")\n",
    "button.on_click(on_submit)\n",
    "text_input.on_submit(lambda x: on_submit(None))\n",
    "\n",
    "display(output, widgets.HBox([text_input, button]))"
   ]
  },
  {
   "cell_type": "code",
   "execution_count": null,
   "metadata": {},
   "outputs": [],
   "source": []
  }
 ],
 "metadata": {
  "kernelspec": {
   "display_name": "Python 3 (ipykernel)",
   "language": "python",
   "name": "python3"
  },
  "language_info": {
   "codemirror_mode": {
    "name": "ipython",
    "version": 3
   },
   "file_extension": ".py",
   "mimetype": "text/x-python",
   "name": "python",
   "nbconvert_exporter": "python",
   "pygments_lexer": "ipython3",
   "version": "3.11.0rc1"
  }
 },
 "nbformat": 4,
 "nbformat_minor": 4
}
